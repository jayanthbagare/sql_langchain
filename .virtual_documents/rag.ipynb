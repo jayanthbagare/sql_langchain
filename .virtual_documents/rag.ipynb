from langchain_community.llms import Ollama
from langchain_community.utilities import SQLDatabase
from langchain_openai import ChatOpenAI
import os
from getpass import getpass


os.environ["OPENAI_API_KEY"] = "<<put your key here>>"


# llm = Ollama(model="phi3")
llm = ChatOpenAI(model="gpt-3.5-turbo", temperature=0)


db = SQLDatabase.from_uri("sqlite:///olist.db")


print(db.dialect)


print(db.get_usable_table_names())


db.run("SELECT COUNT(*) from olist_customers_dataset")


from langchain.chains import create_sql_query_chain
chain = create_sql_query_chain(llm,db)
response = chain.invoke({"question":"How many customers are there"})
response


db.run(response)


chain.get_prompts()[0].pretty_print()


from langchain_community.tools.sql_database.tool import QuerySQLDataBaseTool
execute_query = QuerySQLDataBaseTool(db=db)
write_query = create_sql_query_chain(llm, db)
# chain = write_query | execute_query
# chain.invoke({"question": "How many employees are there"})


from operator import itemgetter

from langchain_core.output_parsers import StrOutputParser
from langchain_core.prompts import PromptTemplate
from langchain_core.runnables import RunnablePassthrough

answer_prompt = PromptTemplate.from_template(
    """Given the following user question, corresponding SQL query, and SQL result, answer the user question.

Question: {question}
SQL Query: {query}
SQL Result: {result}
Answer: """
)

answer = answer_prompt | llm | StrOutputParser()
chain = (
    RunnablePassthrough.assign(query=write_query).assign(
        result=itemgetter("query") | execute_query
    )
    | answer
)

chain.invoke({"question": "How many products are there"})


from langchain_community.agent_toolkits import create_sql_agent


agent_executor = create_sql_agent(llm, db=db, agent_type="openai-tools", verbose=True)


agent_executor.invoke(
    {
        "input": "List the product with highest count of orders."
    }
)



