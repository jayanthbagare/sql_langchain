{
 "cells": [
  {
   "cell_type": "code",
   "execution_count": 6,
   "id": "ac95508e-e189-4882-b2db-7c4c5cb7da62",
   "metadata": {},
   "outputs": [],
   "source": [
    "import sqlite3\n",
    "import csv_to_sqlite\n",
    "from langchain_community.utilities import SQLDatabase"
   ]
  },
  {
   "cell_type": "code",
   "execution_count": 5,
   "id": "0c60a861-a978-4801-88ae-f2f1552b234b",
   "metadata": {},
   "outputs": [
    {
     "name": "stdout",
     "output_type": "stream",
     "text": [
      "\n",
      "Written 1550851 rows into 8 tables in 4.628 seconds\n"
     ]
    },
    {
     "data": {
      "text/plain": [
       "1550851"
      ]
     },
     "execution_count": 5,
     "metadata": {},
     "output_type": "execute_result"
    }
   ],
   "source": [
    "options = csv_to_sqlite.CsvOptions(typing_style='full', encoding='utf-8')\n",
    "input_files = ['olist/olist_customers_dataset.csv', \n",
    "               'olist/olist_geolocation_dataset.csv',\n",
    "               'olist/olist_order_items_dataset.csv',\n",
    "               'olist/olist_order_payments_dataset.csv',\n",
    "               'olist/olist_order_reviews_dataset.csv',\n",
    "               'olist/olist_orders_dataset.csv',\n",
    "               'olist/olist_products_dataset.csv',\n",
    "               'olist/olist_sellers_dataset.csv'] \n",
    "csv_to_sqlite.write_csv(input_files, 'olist.db', options)"
   ]
  },
  {
   "cell_type": "code",
   "execution_count": 21,
   "id": "3f09ad36-6343-4f87-97c3-8cdd92b82e7e",
   "metadata": {},
   "outputs": [],
   "source": [
    "db = SQLDatabase.from_uri(\"sqlite:///olist.db\")"
   ]
  },
  {
   "cell_type": "code",
   "execution_count": 22,
   "id": "48e37d8d-13a1-4cc5-8793-8fcea5a3a69b",
   "metadata": {},
   "outputs": [
    {
     "name": "stdout",
     "output_type": "stream",
     "text": [
      "sqlite\n"
     ]
    }
   ],
   "source": [
    "print(db.dialect)"
   ]
  },
  {
   "cell_type": "code",
   "execution_count": 23,
   "id": "42e3d4ba-d581-4f59-94e9-5669625e5184",
   "metadata": {},
   "outputs": [
    {
     "name": "stdout",
     "output_type": "stream",
     "text": [
      "['olist_customers_dataset', 'olist_geolocation_dataset', 'olist_order_items_dataset', 'olist_order_payments_dataset', 'olist_order_reviews_dataset', 'olist_orders_dataset', 'olist_products_dataset', 'olist_sellers_dataset']\n"
     ]
    }
   ],
   "source": [
    "print(db.get_usable_table_names())"
   ]
  },
  {
   "cell_type": "code",
   "execution_count": 26,
   "id": "005b1de9-b8a6-4d21-9be9-b641857eddc3",
   "metadata": {},
   "outputs": [
    {
     "data": {
      "text/plain": [
       "'[(527,)]'"
      ]
     },
     "execution_count": 26,
     "metadata": {},
     "output_type": "execute_result"
    }
   ],
   "source": [
    "db.run(\"SELECT count(*) from olist_order_items_dataset where product_id='aca2eb7d00ea1a7b8ebd4e68314663af'\")"
   ]
  },
  {
   "cell_type": "code",
   "execution_count": null,
   "id": "26902694-78c5-48b0-800a-ba5b2ac89aec",
   "metadata": {},
   "outputs": [],
   "source": []
  }
 ],
 "metadata": {
  "kernelspec": {
   "display_name": "Python 3 (ipykernel)",
   "language": "python",
   "name": "python3"
  },
  "language_info": {
   "codemirror_mode": {
    "name": "ipython",
    "version": 3
   },
   "file_extension": ".py",
   "mimetype": "text/x-python",
   "name": "python",
   "nbconvert_exporter": "python",
   "pygments_lexer": "ipython3",
   "version": "3.11.5"
  }
 },
 "nbformat": 4,
 "nbformat_minor": 5
}
