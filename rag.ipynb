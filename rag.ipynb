{
 "cells": [
  {
   "cell_type": "code",
   "execution_count": 2,
   "id": "62f730af-78bd-4c29-84f9-04362abceb85",
   "metadata": {},
   "outputs": [],
   "source": [
    "from langchain_community.llms import Ollama\n",
    "from langchain_community.utilities import SQLDatabase\n",
    "from langchain_openai import ChatOpenAI\n",
    "import os\n",
    "from getpass import getpass"
   ]
  },
  {
   "cell_type": "code",
   "execution_count": 3,
   "id": "f2dde02c-c135-4f2c-8df4-e1661cd56bca",
   "metadata": {},
   "outputs": [],
   "source": [
    "os.environ[\"OPENAI_API_KEY\"] = \"<<put your key here>>\""
   ]
  },
  {
   "cell_type": "code",
   "execution_count": 4,
   "id": "2beb8477-915c-4848-be3a-f3a1c498df40",
   "metadata": {},
   "outputs": [],
   "source": [
    "# llm = Ollama(model=\"phi3\")\n",
    "llm = ChatOpenAI(model=\"gpt-3.5-turbo\", temperature=0)"
   ]
  },
  {
   "cell_type": "code",
   "execution_count": 5,
   "id": "b7819a32-0855-4476-a7db-a6456f91d080",
   "metadata": {},
   "outputs": [],
   "source": [
    "db = SQLDatabase.from_uri(\"sqlite:///olist.db\")"
   ]
  },
  {
   "cell_type": "code",
   "execution_count": 6,
   "id": "ff8a399f-f7a6-4bd3-923b-dabceccfa4e0",
   "metadata": {},
   "outputs": [
    {
     "name": "stdout",
     "output_type": "stream",
     "text": [
      "sqlite\n"
     ]
    }
   ],
   "source": [
    "print(db.dialect)"
   ]
  },
  {
   "cell_type": "code",
   "execution_count": 7,
   "id": "d16fc5d1-0880-4251-b11a-e7a9e0b70fd0",
   "metadata": {},
   "outputs": [
    {
     "name": "stdout",
     "output_type": "stream",
     "text": [
      "['olist_customers_dataset', 'olist_geolocation_dataset', 'olist_order_items_dataset', 'olist_order_payments_dataset', 'olist_order_reviews_dataset', 'olist_orders_dataset', 'olist_products_dataset', 'olist_sellers_dataset']\n"
     ]
    }
   ],
   "source": [
    "print(db.get_usable_table_names())"
   ]
  },
  {
   "cell_type": "code",
   "execution_count": 9,
   "id": "15f05570-85ec-48ed-a22b-8d6869eddd70",
   "metadata": {},
   "outputs": [
    {
     "data": {
      "text/plain": [
       "'[(99441,)]'"
      ]
     },
     "execution_count": 9,
     "metadata": {},
     "output_type": "execute_result"
    }
   ],
   "source": [
    "db.run(\"SELECT COUNT(*) from olist_customers_dataset\")"
   ]
  },
  {
   "cell_type": "code",
   "execution_count": 10,
   "id": "e1ab6caf-9261-45a7-b9b0-ae70544cfca3",
   "metadata": {},
   "outputs": [
    {
     "data": {
      "text/plain": [
       "'SELECT COUNT(\"customer_id\") AS total_customers\\nFROM olist_customers_dataset'"
      ]
     },
     "execution_count": 10,
     "metadata": {},
     "output_type": "execute_result"
    }
   ],
   "source": [
    "from langchain.chains import create_sql_query_chain\n",
    "chain = create_sql_query_chain(llm,db)\n",
    "response = chain.invoke({\"question\":\"How many customers are there\"})\n",
    "response"
   ]
  },
  {
   "cell_type": "code",
   "execution_count": 11,
   "id": "8f362e8d-90c9-4f75-863a-4b28a3718043",
   "metadata": {},
   "outputs": [
    {
     "data": {
      "text/plain": [
       "'[(99441,)]'"
      ]
     },
     "execution_count": 11,
     "metadata": {},
     "output_type": "execute_result"
    }
   ],
   "source": [
    "db.run(response)"
   ]
  },
  {
   "cell_type": "code",
   "execution_count": 24,
   "id": "4116aa29-4a8d-4d0f-ae25-fb3d70904dd5",
   "metadata": {},
   "outputs": [
    {
     "name": "stdout",
     "output_type": "stream",
     "text": [
      "You are a SQLite expert. Given an input question, first create a syntactically correct SQLite query to run, then look at the results of the query and return the answer to the input question.\n",
      "Unless the user specifies in the question a specific number of examples to obtain, query for at most 5 results using the LIMIT clause as per SQLite. You can order the results to return the most informative data in the database.\n",
      "Never query for all columns from a table. You must query only the columns that are needed to answer the question. Wrap each column name in double quotes (\") to denote them as delimited identifiers.\n",
      "Pay attention to use only the column names you can see in the tables below. Be careful to not query for columns that do not exist. Also, pay attention to which column is in which table.\n",
      "Pay attention to use date('now') function to get the current date, if the question involves \"today\".\n",
      "\n",
      "Use the following format:\n",
      "\n",
      "Question: Question here\n",
      "SQLQuery: SQL Query to run\n",
      "SQLResult: Result of the SQLQuery\n",
      "Answer: Final answer here\n",
      "\n",
      "Only use the following tables:\n",
      "\u001b[33;1m\u001b[1;3m{table_info}\u001b[0m\n",
      "\n",
      "Question: \u001b[33;1m\u001b[1;3m{input}\u001b[0m\n"
     ]
    }
   ],
   "source": [
    "chain.get_prompts()[0].pretty_print()"
   ]
  },
  {
   "cell_type": "code",
   "execution_count": 16,
   "id": "a6144bfd-553e-4945-9343-717377174f83",
   "metadata": {},
   "outputs": [],
   "source": [
    "from langchain_community.tools.sql_database.tool import QuerySQLDataBaseTool\n",
    "execute_query = QuerySQLDataBaseTool(db=db)\n",
    "write_query = create_sql_query_chain(llm, db)\n",
    "# chain = write_query | execute_query\n",
    "# chain.invoke({\"question\": \"How many employees are there\"})"
   ]
  },
  {
   "cell_type": "code",
   "execution_count": 18,
   "id": "9c9a48b7-31c9-41f7-aaf5-31d3016d3ec5",
   "metadata": {},
   "outputs": [
    {
     "data": {
      "text/plain": [
       "'There are a total of 32,951 products in the olist_products_dataset.'"
      ]
     },
     "execution_count": 18,
     "metadata": {},
     "output_type": "execute_result"
    }
   ],
   "source": [
    "from operator import itemgetter\n",
    "\n",
    "from langchain_core.output_parsers import StrOutputParser\n",
    "from langchain_core.prompts import PromptTemplate\n",
    "from langchain_core.runnables import RunnablePassthrough\n",
    "\n",
    "answer_prompt = PromptTemplate.from_template(\n",
    "    \"\"\"Given the following user question, corresponding SQL query, and SQL result, answer the user question.\n",
    "\n",
    "Question: {question}\n",
    "SQL Query: {query}\n",
    "SQL Result: {result}\n",
    "Answer: \"\"\"\n",
    ")\n",
    "\n",
    "answer = answer_prompt | llm | StrOutputParser()\n",
    "chain = (\n",
    "    RunnablePassthrough.assign(query=write_query).assign(\n",
    "        result=itemgetter(\"query\") | execute_query\n",
    "    )\n",
    "    | answer\n",
    ")\n",
    "\n",
    "chain.invoke({\"question\": \"How many products are there\"})"
   ]
  },
  {
   "cell_type": "code",
   "execution_count": 19,
   "id": "8eb0e528-cd7b-443e-91eb-eb38d591e527",
   "metadata": {},
   "outputs": [],
   "source": [
    "from langchain_community.agent_toolkits import create_sql_agent"
   ]
  },
  {
   "cell_type": "code",
   "execution_count": 20,
   "id": "202a2e00-8b04-487b-b28b-385d9fe50478",
   "metadata": {},
   "outputs": [],
   "source": [
    "agent_executor = create_sql_agent(llm, db=db, agent_type=\"openai-tools\", verbose=True)"
   ]
  },
  {
   "cell_type": "code",
   "execution_count": 23,
   "id": "236baecb-8e4c-401c-92a9-fb22bc298ce6",
   "metadata": {},
   "outputs": [
    {
     "name": "stdout",
     "output_type": "stream",
     "text": [
      "\n",
      "\n",
      "\u001b[1m> Entering new SQL Agent Executor chain...\u001b[0m\n",
      "\u001b[32;1m\u001b[1;3m\n",
      "Invoking: `sql_db_list_tables` with `{'tool_input': ''}`\n",
      "\n",
      "\n",
      "\u001b[0m\u001b[38;5;200m\u001b[1;3molist_customers_dataset, olist_geolocation_dataset, olist_order_items_dataset, olist_order_payments_dataset, olist_order_reviews_dataset, olist_orders_dataset, olist_products_dataset, olist_sellers_dataset\u001b[0m\u001b[32;1m\u001b[1;3m\n",
      "Invoking: `sql_db_schema` with `{'table_names': 'olist_order_items_dataset, olist_products_dataset'}`\n",
      "\n",
      "\n",
      "\u001b[0m\u001b[33;1m\u001b[1;3m\n",
      "CREATE TABLE olist_order_items_dataset (\n",
      "\torder_id TEXT, \n",
      "\torder_item_id INTEGER, \n",
      "\tproduct_id TEXT, \n",
      "\tseller_id TEXT, \n",
      "\tshipping_limit_date TEXT, \n",
      "\tprice REAL, \n",
      "\tfreight_value REAL\n",
      ")\n",
      "\n",
      "/*\n",
      "3 rows from olist_order_items_dataset table:\n",
      "order_id\torder_item_id\tproduct_id\tseller_id\tshipping_limit_date\tprice\tfreight_value\n",
      "00010242fe8c5a6d1ba2dd792cb16214\t1\t4244733e06e7ecb4970a6e2683c13e61\t48436dade18ac8b2bce089ec2a041202\t2017-09-19 09:45:35\t58.9\t13.29\n",
      "00018f77f2f0320c557190d7a144bdd3\t1\te5f2d52b802189ee658865ca93d83a8f\tdd7ddc04e1b6c2c614352b383efe2d36\t2017-05-03 11:05:13\t239.9\t19.93\n",
      "000229ec398224ef6ca0657da4fc703e\t1\tc777355d18b72b67abbeef9df44fd0fd\t5b51032eddd242adc84c38acab88f23d\t2018-01-18 14:48:30\t199.0\t17.87\n",
      "*/\n",
      "\n",
      "\n",
      "CREATE TABLE olist_products_dataset (\n",
      "\tproduct_id TEXT, \n",
      "\tproduct_category_name TEXT, \n",
      "\tproduct_name_lenght TEXT, \n",
      "\tproduct_description_lenght TEXT, \n",
      "\tproduct_photos_qty TEXT, \n",
      "\tproduct_weight_g TEXT, \n",
      "\tproduct_length_cm TEXT, \n",
      "\tproduct_height_cm TEXT, \n",
      "\tproduct_width_cm TEXT\n",
      ")\n",
      "\n",
      "/*\n",
      "3 rows from olist_products_dataset table:\n",
      "product_id\tproduct_category_name\tproduct_name_lenght\tproduct_description_lenght\tproduct_photos_qty\tproduct_weight_g\tproduct_length_cm\tproduct_height_cm\tproduct_width_cm\n",
      "1e9e8ef04dbcff4541ed26657ea517e5\tperfumaria\t40\t287\t1\t225\t16\t10\t14\n",
      "3aa071139cb16b67ca9e5dea641aaa2f\tartes\t44\t276\t1\t1000\t30\t18\t20\n",
      "96bd76ec8810374ed1b65e291975717f\tesporte_lazer\t46\t250\t1\t154\t18\t9\t15\n",
      "*/\u001b[0m\u001b[32;1m\u001b[1;3m\n",
      "Invoking: `sql_db_query` with `{'query': 'SELECT olist_products_dataset.product_id, COUNT(olist_order_items_dataset.order_id) AS order_count FROM olist_products_dataset JOIN olist_order_items_dataset ON olist_products_dataset.product_id = olist_order_items_dataset.product_id GROUP BY olist_products_dataset.product_id ORDER BY order_count DESC LIMIT 1'}`\n",
      "\n",
      "\n",
      "\u001b[0m\u001b[36;1m\u001b[1;3m[('aca2eb7d00ea1a7b8ebd4e68314663af', 527)]\u001b[0m\u001b[32;1m\u001b[1;3mThe product with the highest count of orders is the one with the product_id 'aca2eb7d00ea1a7b8ebd4e68314663af' with a total of 527 orders.\u001b[0m\n",
      "\n",
      "\u001b[1m> Finished chain.\u001b[0m\n"
     ]
    },
    {
     "data": {
      "text/plain": [
       "{'input': 'List the product with highest count of orders.',\n",
       " 'output': \"The product with the highest count of orders is the one with the product_id 'aca2eb7d00ea1a7b8ebd4e68314663af' with a total of 527 orders.\"}"
      ]
     },
     "execution_count": 23,
     "metadata": {},
     "output_type": "execute_result"
    }
   ],
   "source": [
    "agent_executor.invoke(\n",
    "    {\n",
    "        \"input\": \"List the product with highest count of orders.\"\n",
    "    }\n",
    ")"
   ]
  },
  {
   "cell_type": "code",
   "execution_count": null,
   "id": "a913a9b3-9454-4b59-8ff9-efce8e337909",
   "metadata": {},
   "outputs": [],
   "source": []
  }
 ],
 "metadata": {
  "kernelspec": {
   "display_name": "Python 3 (ipykernel)",
   "language": "python",
   "name": "python3"
  },
  "language_info": {
   "codemirror_mode": {
    "name": "ipython",
    "version": 3
   },
   "file_extension": ".py",
   "mimetype": "text/x-python",
   "name": "python",
   "nbconvert_exporter": "python",
   "pygments_lexer": "ipython3",
   "version": "3.11.5"
  }
 },
 "nbformat": 4,
 "nbformat_minor": 5
}
